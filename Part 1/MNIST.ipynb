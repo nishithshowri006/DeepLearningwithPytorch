{
 "cells": [
  {
   "cell_type": "code",
   "execution_count": 1,
   "metadata": {},
   "outputs": [],
   "source": [
    "import torch\n",
    "import numpy as np\n",
    "import matplotlib.pyplot as plt\n",
    "from torchvision import transforms,datasets"
   ]
  },
  {
   "cell_type": "code",
   "execution_count": 2,
   "metadata": {},
   "outputs": [],
   "source": [
    "mnist = datasets.MNIST('/',train=True,\n",
    "                       transform=transforms.ToTensor(),\n",
    "                       download=True)\n",
    "mnist_test = datasets.MNIST('/',train=False,\n",
    "                       transform=transforms.ToTensor(),\n",
    "                       download=True)"
   ]
  },
  {
   "cell_type": "code",
   "execution_count": 3,
   "metadata": {},
   "outputs": [],
   "source": [
    "img,label = mnist[0]"
   ]
  },
  {
   "cell_type": "code",
   "execution_count": 4,
   "metadata": {},
   "outputs": [
    {
     "data": {
      "image/png": "[encoded data removed]",
      "text/plain": [
       "<Figure size 432x288 with 1 Axes>"
      ]
     },
     "metadata": {
      "needs_background": "light"
     },
     "output_type": "display_data"
    }
   ],
   "source": [
    "plt.imshow(img.permute(1,2,0).numpy(),cmap='gray')\n",
    "plt.show()"
   ]
  },
  {
   "cell_type": "code",
   "execution_count": 5,
   "metadata": {},
   "outputs": [
    {
     "data": {
      "text/plain": [
       "5"
      ]
     },
     "execution_count": 5,
     "metadata": {},
     "output_type": "execute_result"
    }
   ],
   "source": [
    "label"
   ]
  },
  {
   "cell_type": "code",
   "execution_count": 6,
   "metadata": {},
   "outputs": [],
   "source": [
    "device = torch.device(\"cuda:0\" if torch.cuda.is_available() else \"cpu\")"
   ]
  },
  {
   "cell_type": "code",
   "execution_count": 7,
   "metadata": {},
   "outputs": [],
   "source": [
    "from torch import nn,optim"
   ]
  },
  {
   "cell_type": "code",
   "execution_count": 12,
   "metadata": {},
   "outputs": [],
   "source": [
    "imgs = torch.stack([imgt for imgt,_ in mnist])"
   ]
  },
  {
   "cell_type": "code",
   "execution_count": 13,
   "metadata": {},
   "outputs": [],
   "source": [
    "imgs = imgs.permute(0,2,3,1)"
   ]
  },
  {
   "cell_type": "code",
   "execution_count": 14,
   "metadata": {},
   "outputs": [
    {
     "data": {
      "text/plain": [
       "torch.Size([60000, 28, 28, 1])"
      ]
     },
     "execution_count": 14,
     "metadata": {},
     "output_type": "execute_result"
    }
   ],
   "source": [
    "imgs.shape"
   ]
  },
  {
   "cell_type": "code",
   "execution_count": 15,
   "metadata": {},
   "outputs": [
    {
     "data": {
      "text/plain": [
       "<matplotlib.image.AxesImage at 0x2082ac89d30>"
      ]
     },
     "execution_count": 15,
     "metadata": {},
     "output_type": "execute_result"
    },
    {
     "data": {
      "image/png": "[encoded data removed]",
      "text/plain": [
       "<Figure size 432x288 with 1 Axes>"
      ]
     },
     "metadata": {
      "needs_background": "light"
     },
     "output_type": "display_data"
    }
   ],
   "source": [
    "plt.imshow(imgs[0].numpy(),cmap='gray')"
   ]
  },
  {
   "cell_type": "code",
   "execution_count": 16,
   "metadata": {},
   "outputs": [
    {
     "data": {
      "text/plain": [
       "tensor(0.1307)"
      ]
     },
     "execution_count": 16,
     "metadata": {},
     "output_type": "execute_result"
    }
   ],
   "source": [
    "imgs.mean()"
   ]
  },
  {
   "cell_type": "code",
   "execution_count": 17,
   "metadata": {},
   "outputs": [],
   "source": [
    "mean = imgs.mean()"
   ]
  },
  {
   "cell_type": "code",
   "execution_count": 18,
   "metadata": {},
   "outputs": [],
   "source": [
    "std = imgs.std()"
   ]
  },
  {
   "cell_type": "code",
   "execution_count": 19,
   "metadata": {},
   "outputs": [],
   "source": [
    "mnist_n = datasets.MNIST('/',train=True,\n",
    "                       transform=transforms.Compose([\n",
    "                           transforms.ToTensor(),\n",
    "                       transforms.Normalize(mean,std)]),\n",
    "                       download=True)"
   ]
  },
  {
   "cell_type": "code",
   "execution_count": 20,
   "metadata": {},
   "outputs": [],
   "source": [
    "i,_ = mnist_n[0]"
   ]
  },
  {
   "cell_type": "code",
   "execution_count": 21,
   "metadata": {},
   "outputs": [
    {
     "data": {
      "text/plain": [
       "<matplotlib.image.AxesImage at 0x2082ce0c2b0>"
      ]
     },
     "execution_count": 21,
     "metadata": {},
     "output_type": "execute_result"
    },
    {
     "data": {
      "image/png": "[encoded data removed]",
      "text/plain": [
       "<Figure size 432x288 with 1 Axes>"
      ]
     },
     "metadata": {
      "needs_background": "light"
     },
     "output_type": "display_data"
    }
   ],
   "source": [
    "plt.imshow(i.permute(1,2,0).squeeze().numpy(),cmap='gray')"
   ]
  },
  {
   "cell_type": "code",
   "execution_count": 54,
   "metadata": {},
   "outputs": [],
   "source": [
    "model = nn.Sequential(nn.Linear(784,256),\n",
    "                      nn.LeakyReLU(),\n",
    "                      nn.Linear(256,128),\n",
    "                      nn.LeakyReLU(),\n",
    "                      nn.Linear(128,128),\n",
    "                      nn.ReLU(),\n",
    "                     nn.Linear(128,10),\n",
    "                     nn.Softmax())"
   ]
  },
  {
   "cell_type": "code",
   "execution_count": 20,
   "metadata": {},
   "outputs": [
    {
     "data": {
      "text/plain": [
       "Sequential(\n",
       "  (0): Linear(in_features=784, out_features=256, bias=True)\n",
       "  (1): LeakyReLU(negative_slope=0.01)\n",
       "  (2): Linear(in_features=256, out_features=128, bias=True)\n",
       "  (3): LeakyReLU(negative_slope=0.01)\n",
       "  (4): Linear(in_features=128, out_features=128, bias=True)\n",
       "  (5): ReLU()\n",
       "  (6): Linear(in_features=128, out_features=10, bias=True)\n",
       "  (7): LogSoftmax(dim=1)\n",
       ")"
      ]
     },
     "execution_count": 20,
     "metadata": {},
     "output_type": "execute_result"
    }
   ],
   "source": [
    "model"
   ]
  },
  {
   "cell_type": "code",
   "execution_count": 61,
   "metadata": {},
   "outputs": [],
   "source": [
    "optimizer = optim.Adam(model.parameters())"
   ]
  },
  {
   "cell_type": "code",
   "execution_count": 60,
   "metadata": {},
   "outputs": [],
   "source": [
    "loss_f = nn.CrossEntropyLoss()"
   ]
  },
  {
   "cell_type": "code",
   "execution_count": 22,
   "metadata": {},
   "outputs": [],
   "source": [
    "model = nn.Sequential(nn.Conv2d(1,16,3))"
   ]
  },
  {
   "cell_type": "code",
   "execution_count": 24,
   "metadata": {},
   "outputs": [
    {
     "data": {
      "text/plain": [
       "tensor([[[[ 0.3094,  0.3094,  0.3094,  ...,  0.3094,  0.3094,  0.3094],\n",
       "          [ 0.3094,  0.3094,  0.3094,  ...,  0.3094,  0.3094,  0.3094],\n",
       "          [ 0.3094,  0.3094,  0.3094,  ...,  0.3094,  0.3094,  0.3094],\n",
       "          ...,\n",
       "          [ 0.3094,  0.3094,  0.2048,  ...,  0.3094,  0.3094,  0.3094],\n",
       "          [ 0.3094,  0.3094,  0.3285,  ...,  0.3094,  0.3094,  0.3094],\n",
       "          [ 0.3094,  0.3094,  0.3094,  ...,  0.3094,  0.3094,  0.3094]],\n",
       "\n",
       "         [[-0.1492, -0.1492, -0.1492,  ..., -0.1492, -0.1492, -0.1492],\n",
       "          [-0.1492, -0.1492, -0.1492,  ..., -0.1492, -0.1492, -0.1492],\n",
       "          [-0.1492, -0.1492, -0.1492,  ..., -0.1492, -0.1492, -0.1492],\n",
       "          ...,\n",
       "          [-0.1492, -0.1492, -0.0701,  ..., -0.1492, -0.1492, -0.1492],\n",
       "          [-0.1492, -0.1492, -0.2087,  ..., -0.1492, -0.1492, -0.1492],\n",
       "          [-0.1492, -0.1492, -0.1492,  ..., -0.1492, -0.1492, -0.1492]],\n",
       "\n",
       "         [[-0.2901, -0.2901, -0.2901,  ..., -0.2901, -0.2901, -0.2901],\n",
       "          [-0.2901, -0.2901, -0.2901,  ..., -0.2901, -0.2901, -0.2901],\n",
       "          [-0.2901, -0.2901, -0.2901,  ..., -0.2901, -0.2901, -0.2901],\n",
       "          ...,\n",
       "          [-0.2901, -0.2901, -0.3005,  ..., -0.2901, -0.2901, -0.2901],\n",
       "          [-0.2901, -0.2901, -0.1691,  ..., -0.2901, -0.2901, -0.2901],\n",
       "          [-0.2901, -0.2901, -0.2901,  ..., -0.2901, -0.2901, -0.2901]],\n",
       "\n",
       "         ...,\n",
       "\n",
       "         [[-0.1538, -0.1538, -0.1538,  ..., -0.1538, -0.1538, -0.1538],\n",
       "          [-0.1538, -0.1538, -0.1538,  ..., -0.1538, -0.1538, -0.1538],\n",
       "          [-0.1538, -0.1538, -0.1538,  ..., -0.1538, -0.1538, -0.1538],\n",
       "          ...,\n",
       "          [-0.1538, -0.1538, -0.3060,  ..., -0.1538, -0.1538, -0.1538],\n",
       "          [-0.1538, -0.1538, -0.3164,  ..., -0.1538, -0.1538, -0.1538],\n",
       "          [-0.1538, -0.1538, -0.1538,  ..., -0.1538, -0.1538, -0.1538]],\n",
       "\n",
       "         [[ 0.2726,  0.2726,  0.2726,  ...,  0.2726,  0.2726,  0.2726],\n",
       "          [ 0.2726,  0.2726,  0.2726,  ...,  0.2726,  0.2726,  0.2726],\n",
       "          [ 0.2726,  0.2726,  0.2726,  ...,  0.2726,  0.2726,  0.2726],\n",
       "          ...,\n",
       "          [ 0.2726,  0.2726,  0.4156,  ...,  0.2726,  0.2726,  0.2726],\n",
       "          [ 0.2726,  0.2726,  0.4375,  ...,  0.2726,  0.2726,  0.2726],\n",
       "          [ 0.2726,  0.2726,  0.2726,  ...,  0.2726,  0.2726,  0.2726]],\n",
       "\n",
       "         [[-0.1640, -0.1640, -0.1640,  ..., -0.1640, -0.1640, -0.1640],\n",
       "          [-0.1640, -0.1640, -0.1640,  ..., -0.1640, -0.1640, -0.1640],\n",
       "          [-0.1640, -0.1640, -0.1640,  ..., -0.1640, -0.1640, -0.1640],\n",
       "          ...,\n",
       "          [-0.1640, -0.1640, -0.1494,  ..., -0.1640, -0.1640, -0.1640],\n",
       "          [-0.1640, -0.1640, -0.2955,  ..., -0.1640, -0.1640, -0.1640],\n",
       "          [-0.1640, -0.1640, -0.1640,  ..., -0.1640, -0.1640, -0.1640]]]],\n",
       "       grad_fn=<MkldnnConvolutionBackward>)"
      ]
     },
     "execution_count": 24,
     "metadata": {},
     "output_type": "execute_result"
    }
   ],
   "source": [
    "model(img.unsqueeze(0))"
   ]
  },
  {
   "cell_type": "code",
   "execution_count": 25,
   "metadata": {},
   "outputs": [
    {
     "data": {
      "text/plain": [
       "torch.Size([1, 1, 28, 28])"
      ]
     },
     "execution_count": 25,
     "metadata": {},
     "output_type": "execute_result"
    }
   ],
   "source": [
    "img.unsqueeze(0).shape"
   ]
  },
  {
   "cell_type": "code",
   "execution_count": 32,
   "metadata": {},
   "outputs": [],
   "source": [
    "l = nn.Linear(784,10)"
   ]
  },
  {
   "cell_type": "code",
   "execution_count": 34,
   "metadata": {},
   "outputs": [],
   "source": [
    "loss = nn.CrossEntropyLoss()"
   ]
  },
  {
   "cell_type": "code",
   "execution_count": 56,
   "metadata": {},
   "outputs": [],
   "source": [
    "model = nn.Sequential(nn.Conv2d(1,32,kernel_size=3,padding=1),\n",
    "                     nn.LeakyReLU(),\n",
    "                     nn.MaxPool2d(2),\n",
    "                     nn.Conv2d(32,16,3,padding=1),\n",
    "                     nn.Tanh(),\n",
    "                     nn.MaxPool2d(2),\n",
    "                     nn.Conv2d(16,8,3,padding=1),\n",
    "                     nn.LeakyReLU(),\n",
    "                     nn.Flatten(),\n",
    "                     nn.Linear(392,128),\n",
    "                     nn.LeakyReLU(),\n",
    "                     nn.Linear(128,64),\n",
    "                     nn.Tanh(),\n",
    "                     nn.Linear(64,10),\n",
    "                     nn.Softmax(dim=1))"
   ]
  },
  {
   "cell_type": "code",
   "execution_count": 45,
   "metadata": {},
   "outputs": [],
   "source": [
    "out = model(img.unsqueeze(0))"
   ]
  },
  {
   "cell_type": "code",
   "execution_count": 46,
   "metadata": {},
   "outputs": [
    {
     "data": {
      "text/plain": [
       "tensor([[0.1122, 0.1009, 0.1029, 0.0944, 0.0870, 0.0997, 0.1009, 0.1081, 0.0907,\n",
       "         0.1032]], grad_fn=<SoftmaxBackward>)"
      ]
     },
     "execution_count": 46,
     "metadata": {},
     "output_type": "execute_result"
    }
   ],
   "source": [
    "out"
   ]
  },
  {
   "cell_type": "code",
   "execution_count": 55,
   "metadata": {},
   "outputs": [
    {
     "data": {
      "text/plain": [
       "tensor(2.3017, grad_fn=<NllLossBackward>)"
      ]
     },
     "execution_count": 55,
     "metadata": {},
     "output_type": "execute_result"
    }
   ],
   "source": [
    "loss(out,torch.tensor([1]))"
   ]
  },
  {
   "cell_type": "code",
   "execution_count": 57,
   "metadata": {},
   "outputs": [],
   "source": [
    "mnist_dls = torch.utils.data.DataLoader(mnist_n,batch_size=64)\n",
    "\n",
    "    "
   ]
  },
  {
   "cell_type": "code",
   "execution_count": 59,
   "metadata": {},
   "outputs": [
    {
     "name": "stdout",
     "output_type": "stream",
     "text": [
      "torch.Size([64, 1, 28, 28])\n",
      "torch.Size([64])\n"
     ]
    }
   ],
   "source": [
    "for i,j in mnist_dls:\n",
    "    print(i.shape)\n",
    "    print(j.shape)\n",
    "    break"
   ]
  },
  {
   "cell_type": "code",
   "execution_count": null,
   "metadata": {},
   "outputs": [
    {
     "name": "stderr",
     "output_type": "stream",
     "text": [
      "<ipython-input-64-3e1509a43056>:4: UserWarning: To copy construct from a tensor, it is recommended to use sourceTensor.clone().detach() or sourceTensor.clone().detach().requires_grad_(True), rather than torch.tensor(sourceTensor).\n",
      "  loss = loss_f(out,torch.tensor(label))\n"
     ]
    },
    {
     "name": "stdout",
     "output_type": "stream",
     "text": [
      "Epoch 0: Loss:1.4621154069900513\n",
      "Epoch 1: Loss:1.4612998962402344\n",
      "Epoch 2: Loss:1.4611989259719849\n",
      "Epoch 3: Loss:1.4611916542053223\n",
      "Epoch 4: Loss:1.4611555337905884\n"
     ]
    }
   ],
   "source": [
    "for epochs in range(10):\n",
    "    for img,label in mnist_dls:\n",
    "        out = model(img)\n",
    "        loss = loss_f(out,torch.tensor(label))\n",
    "        optimizer.zero_grad()\n",
    "        loss.backward()\n",
    "        optimizer.step()\n",
    "    print(f\"Epoch {epochs}: Loss:{loss}\")"
   ]
  },
  {
   "cell_type": "code",
   "execution_count": null,
   "metadata": {},
   "outputs": [],
   "source": []
  }
 ],
 "metadata": {
  "kernelspec": {
   "display_name": "Python 3",
   "language": "python",
   "name": "python3"
  },
  "language_info": {
   "codemirror_mode": {
    "name": "ipython",
    "version": 3
   },
   "file_extension": ".py",
   "mimetype": "text/x-python",
   "name": "python",
   "nbconvert_exporter": "python",
   "pygments_lexer": "ipython3",
   "version": "3.8.5"
  }
 },
 "nbformat": 4,
 "nbformat_minor": 4
}
