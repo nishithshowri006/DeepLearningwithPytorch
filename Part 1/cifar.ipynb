{
 "cells": [
  {
   "cell_type": "code",
   "execution_count": 41,
   "metadata": {},
   "outputs": [],
   "source": [
    "from torchvision import transforms,datasets\n",
    "import torch\n",
    "import torch.nn as nn\n",
    "from torch.utils.tensorboard import SummaryWriter\n",
    "from torch.functional import F\n",
    "import numpy as np\n",
    "import pandas as pd\n",
    "import matplotlib.pyplot as plt\n",
    "from sklearn.model_selection import train_test_split\n",
    "import time\n",
    "import copy"
   ]
  },
  {
   "cell_type": "code",
   "execution_count": 2,
   "metadata": {},
   "outputs": [],
   "source": [
    "writer = SummaryWriter('runs/cfiar')"
   ]
  },
  {
   "cell_type": "code",
   "execution_count": 3,
   "metadata": {},
   "outputs": [],
   "source": [
    "def show_image(img,channel=3):\n",
    "    if channel==1:\n",
    "        plot.imshow(img.permute(1,2,0),cmap=\"gray\")\n",
    "    elif channel==3:\n",
    "        plot.imshow(img.permute(1,2,0))"
   ]
  },
  {
   "cell_type": "code",
   "execution_count": 4,
   "metadata": {},
   "outputs": [],
   "source": [
    "def get_stats(path):\n",
    "    train_dataset = datasets.CIFAR10(path,transform=transforms.Compose([transforms.ToTensor()]))\n",
    "    trainstack = torch.stack([x for x,y in train_dataset])\n",
    "    means = [trainstack[:,i,:,:].mean() for i in range(3)]\n",
    "    stds = [trainstack[:,i,:,:].std() for i in range(3)]\n",
    "    return means,stds"
   ]
  },
  {
   "cell_type": "code",
   "execution_count": 5,
   "metadata": {},
   "outputs": [],
   "source": [
    "means,stds = get_stats('data/')"
   ]
  },
  {
   "cell_type": "code",
   "execution_count": 6,
   "metadata": {},
   "outputs": [
    {
     "data": {
      "text/plain": [
       "([tensor(0.4914), tensor(0.4822), tensor(0.4465)],\n",
       " [tensor(0.2470), tensor(0.2435), tensor(0.2616)])"
      ]
     },
     "execution_count": 6,
     "metadata": {},
     "output_type": "execute_result"
    }
   ],
   "source": [
    "means,stds"
   ]
  },
  {
   "cell_type": "code",
   "execution_count": 8,
   "metadata": {},
   "outputs": [],
   "source": [
    "transform_train = transforms.Compose([\n",
    "                                transforms.RandomResizedCrop(32),\n",
    "                                transforms.RandomPerspective(),\n",
    "                                transforms.RandomRotation(90,center=(15,15),fill=means),\n",
    "                                transforms.RandomHorizontalFlip(),\n",
    "                                transforms.ToTensor(),\n",
    "                                transforms.Normalize(means,stds)])\n"
   ]
  },
  {
   "cell_type": "code",
   "execution_count": 15,
   "metadata": {},
   "outputs": [],
   "source": [
    "transfrom_val = transforms.Compose([transforms.ToTensor(),transforms.Normalize(means,stds)])"
   ]
  },
  {
   "cell_type": "code",
   "execution_count": 13,
   "metadata": {},
   "outputs": [],
   "source": [
    "data = datasets.CIFAR10('data/',train=True,transform=None)\n",
    "test_dataset = datasets.CIFAR10('data/',train=False,transform=transforms.Compose([transforms.ToTensor(),transforms.Normalize(means,stds)]))"
   ]
  },
  {
   "cell_type": "code",
   "execution_count": 14,
   "metadata": {},
   "outputs": [],
   "source": [
    "train_dataset,valid_dataset = torch.utils.data.random_split(data,[40000,10000])"
   ]
  },
  {
   "cell_type": "code",
   "execution_count": 20,
   "metadata": {},
   "outputs": [],
   "source": [
    "train_dataset.dataset.transform = transform_train\n",
    "valid_dataset.dataset.transform = transfrom_val"
   ]
  },
  {
   "cell_type": "code",
   "execution_count": 22,
   "metadata": {},
   "outputs": [
    {
     "data": {
      "text/plain": [
       "torch.Size([3, 32, 32])"
      ]
     },
     "execution_count": 22,
     "metadata": {},
     "output_type": "execute_result"
    }
   ],
   "source": [
    "train_dataset.dataset[0][0].shape"
   ]
  },
  {
   "cell_type": "code",
   "execution_count": 30,
   "metadata": {},
   "outputs": [],
   "source": [
    "train_dls = torch.utils.data.DataLoader(train_dataset,batch_size=bs,shuffle=True)\n",
    "valid_dls = torch.utils.data.DataLoader(valid_dataset,batch_size=bs,shuffle=True)"
   ]
  },
  {
   "cell_type": "code",
   "execution_count": 28,
   "metadata": {},
   "outputs": [],
   "source": [
    "class Net(nn.Module):\n",
    "    \n",
    "    def __init__(self):\n",
    "        super(Net,self).__init__()\n",
    "        in_channel=3\n",
    "        num_classes=10\n",
    "        batch_size=256\n",
    "        ks = 3\n",
    "        out_channel = 32\n",
    "        self.conv1 = nn.Conv2d(in_channel,out_channel,ks,padding=1)\n",
    "        self.batch1 = nn.BatchNorm2d(out_channel)\n",
    "        self.conv2 = nn.Conv2d(out_channel,out_channel*2,ks,padding=1)\n",
    "        self.batch2 = nn.BatchNorm2d(out_channel*2)\n",
    "        self.conv3 = nn.Conv2d(out_channel*2,out_channel*2,ks,padding=1)\n",
    "        self.batch3 = nn.BatchNorm2d(out_channel*2)\n",
    "        self.lin1 = nn.Linear(4*4*out_channel*2,128)\n",
    "        self.batchl1 = nn.BatchNorm1d(128)\n",
    "        self.lin2 = nn.Linear(128,64)\n",
    "        self.batchl2 = nn.BatchNorm1d(64)\n",
    "        self.lin3 = nn.Linear(64,32)\n",
    "        self.batchl3 = nn.BatchNorm1d(32)\n",
    "        self.lin4 = nn.Linear(32,num_classes)\n",
    "        self.batchl4 = nn.BatchNorm1d(10)\n",
    "        \n",
    "        \n",
    "    def forward(self,X):\n",
    "        conv1 = self.batch1(F.max_pool2d(torch.selu(self.conv1(X)),2))\n",
    "        conv2 = self.batch2(F.max_pool2d(torch.selu(self.conv2(conv1)),2))\n",
    "        conv3 = self.batch3(F.max_pool2d(torch.selu(self.conv3(conv2)),2))\n",
    "#         print(conv3.shape)\n",
    "        flat = conv3.view(-1,4*4*32*2)\n",
    "#         print(flat.shape)\n",
    "        lin1 = self.batchl1(torch.selu(self.lin1(flat)))\n",
    "        lin2 = self.batchl2(torch.selu(self.lin2(lin1)))\n",
    "        lin3 = self.batchl3(torch.relu(self.lin3(lin2)))\n",
    "        out = self.batchl4(torch.relu(self.lin4(lin3)))\n",
    "#         print(out.shape)\n",
    "        return out"
   ]
  },
  {
   "cell_type": "code",
   "execution_count": 73,
   "metadata": {},
   "outputs": [],
   "source": [
    "def learning_loop(data,model,optimizer,loss_fn,epochs):\n",
    "    \n",
    "    best_model = copy.deepcopy(model.state_dict())\n",
    "    for epoch in range(1,epochs+1):\n",
    "        print(f\"Epoch = {epoch}/{epochs}\")\n",
    "        print(\"-\"*15)\n",
    "        print()\n",
    "        for phase in data:\n",
    "            epoch_loss = 0.0\n",
    "            correct = 0\n",
    "            total = 0\n",
    "            accuracy = 0\n",
    "            for images,labels in data[phase]:\n",
    "                images,labels = images.to(device),labels.to(device)\n",
    "                optimizer.zero_grad()\n",
    "                if phase==\"valid\":\n",
    "                    model.eval()\n",
    "                else:\n",
    "                    model.train()\n",
    "                outputs = model(images)\n",
    "                if phase==\"train\":\n",
    "                    loss = loss_fn(outputs,labels)\n",
    "                    loss.backward()\n",
    "                    optimizer.step()\n",
    "                with torch.no_grad():\n",
    "                    epoch_loss += loss.item()\n",
    "                    total += len(labels)\n",
    "                    _,predictions = torch.max(outputs,dim=1)\n",
    "                    correct += (predictions==labels).sum().item()\n",
    "            print(f\"{phase} Loss == {epoch_loss/len(data[phase]):.4f}\")\n",
    "            print(f\"{phase} Accuracy == {correct/total:.2f}\")\n",
    "            if phase==\"valid\":\n",
    "                if correct/total > accuracy:\n",
    "                    best_model = copy.deepcopy(model.state_dict())\n",
    "                accuracy = correct/total\n",
    "            else:\n",
    "                scheduler.step()\n",
    "\n",
    "        \n",
    "    return best_model"
   ]
  },
  {
   "cell_type": "code",
   "execution_count": 74,
   "metadata": {},
   "outputs": [],
   "source": [
    "bs = 128\n",
    "lr = 0.03\n",
    "epochs = 15\n",
    "device = \"cuda\" if torch.cuda.is_available else \"cpu\"\n",
    "classes = data.classes\n",
    "l_t = len(train_dls)\n",
    "l_v = len(valid_dls)"
   ]
  },
  {
   "cell_type": "code",
   "execution_count": 75,
   "metadata": {},
   "outputs": [],
   "source": [
    "datas = {\"train\":train_dls,\"valid\":valid_dls}\n",
    "model = Net().to(device)\n",
    "optimizer = torch.optim.Adam(model.parameters(),lr)\n",
    "scheduler = torch.optim.lr_scheduler.ExponentialLR(optimizer,gamma=0.75)\n",
    "loss_fn = nn.CrossEntropyLoss()"
   ]
  },
  {
   "cell_type": "code",
   "execution_count": 76,
   "metadata": {},
   "outputs": [
    {
     "name": "stdout",
     "output_type": "stream",
     "text": [
      "Epoch = 1/15\n",
      "---------------\n",
      "\n",
      "train Loss == 1.4594\n",
      "train Accuracy == 0.47\n",
      "valid Loss == 1.3226\n",
      "valid Accuracy == 0.59\n",
      "Epoch = 2/15\n",
      "---------------\n",
      "\n",
      "train Loss == 0.9949\n",
      "train Accuracy == 0.65\n",
      "valid Loss == 0.8641\n",
      "valid Accuracy == 0.67\n",
      "Epoch = 3/15\n",
      "---------------\n",
      "\n",
      "train Loss == 0.8062\n",
      "train Accuracy == 0.72\n",
      "valid Loss == 1.2329\n",
      "valid Accuracy == 0.71\n",
      "Epoch = 4/15\n",
      "---------------\n",
      "\n",
      "train Loss == 0.6656\n",
      "train Accuracy == 0.77\n",
      "valid Loss == 0.6558\n",
      "valid Accuracy == 0.73\n",
      "Epoch = 5/15\n",
      "---------------\n",
      "\n",
      "train Loss == 0.5490\n",
      "train Accuracy == 0.81\n",
      "valid Loss == 0.6412\n",
      "valid Accuracy == 0.74\n",
      "Epoch = 6/15\n",
      "---------------\n",
      "\n",
      "train Loss == 0.4422\n",
      "train Accuracy == 0.85\n",
      "valid Loss == 0.5954\n",
      "valid Accuracy == 0.74\n",
      "Epoch = 7/15\n",
      "---------------\n",
      "\n",
      "train Loss == 0.3487\n",
      "train Accuracy == 0.88\n",
      "valid Loss == 0.5333\n",
      "valid Accuracy == 0.75\n",
      "Epoch = 8/15\n",
      "---------------\n",
      "\n",
      "train Loss == 0.2581\n",
      "train Accuracy == 0.91\n",
      "valid Loss == 0.2565\n",
      "valid Accuracy == 0.75\n",
      "Epoch = 9/15\n",
      "---------------\n",
      "\n",
      "train Loss == 0.1886\n",
      "train Accuracy == 0.94\n",
      "valid Loss == 0.1645\n",
      "valid Accuracy == 0.75\n",
      "Epoch = 10/15\n",
      "---------------\n",
      "\n",
      "train Loss == 0.1367\n",
      "train Accuracy == 0.96\n",
      "valid Loss == 0.1283\n",
      "valid Accuracy == 0.75\n",
      "Epoch = 11/15\n",
      "---------------\n",
      "\n",
      "train Loss == 0.1053\n",
      "train Accuracy == 0.97\n",
      "valid Loss == 0.3197\n",
      "valid Accuracy == 0.75\n",
      "Epoch = 12/15\n",
      "---------------\n",
      "\n",
      "train Loss == 0.0781\n",
      "train Accuracy == 0.98\n",
      "valid Loss == 0.1382\n",
      "valid Accuracy == 0.75\n",
      "Epoch = 13/15\n",
      "---------------\n",
      "\n",
      "train Loss == 0.0652\n",
      "train Accuracy == 0.98\n",
      "valid Loss == 0.0636\n",
      "valid Accuracy == 0.75\n",
      "Epoch = 14/15\n",
      "---------------\n",
      "\n",
      "train Loss == 0.0540\n",
      "train Accuracy == 0.99\n",
      "valid Loss == 0.2171\n",
      "valid Accuracy == 0.75\n",
      "Epoch = 15/15\n",
      "---------------\n",
      "\n",
      "train Loss == 0.0472\n",
      "train Accuracy == 0.99\n",
      "valid Loss == 0.1331\n",
      "valid Accuracy == 0.75\n"
     ]
    }
   ],
   "source": [
    "weights = learning_loop(datas,model,optimizer,loss_fn,epochs)"
   ]
  },
  {
   "cell_type": "code",
   "execution_count": null,
   "metadata": {},
   "outputs": [],
   "source": []
  }
 ],
 "metadata": {
  "kernelspec": {
   "display_name": "Python 3",
   "language": "python",
   "name": "python3"
  },
  "language_info": {
   "codemirror_mode": {
    "name": "ipython",
    "version": 3
   },
   "file_extension": ".py",
   "mimetype": "text/x-python",
   "name": "python",
   "nbconvert_exporter": "python",
   "pygments_lexer": "ipython3",
   "version": "3.8.5"
  }
 },
 "nbformat": 4,
 "nbformat_minor": 4
}
